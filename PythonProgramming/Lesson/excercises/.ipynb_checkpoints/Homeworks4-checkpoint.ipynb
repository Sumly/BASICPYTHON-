{
 "cells": [
  {
   "cell_type": "code",
   "execution_count": 5,
   "id": "b0bd0750-9de9-4116-a8a5-44a3c2c491e0",
   "metadata": {},
   "outputs": [
    {
     "ename": "IndentationError",
     "evalue": "expected an indented block (<ipython-input-5-016746773ecf>, line 15)",
     "output_type": "error",
     "traceback": [
      "\u001b[1;36m  File \u001b[1;32m\"<ipython-input-5-016746773ecf>\"\u001b[1;36m, line \u001b[1;32m15\u001b[0m\n\u001b[1;33m    generate_palindrome(1,1001)\u001b[0m\n\u001b[1;37m                               ^\u001b[0m\n\u001b[1;31mIndentationError\u001b[0m\u001b[1;31m:\u001b[0m expected an indented block\n"
     ]
    }
   ],
   "source": [
    "def isPalindrome(s):\n",
    "\n",
    "    s = str(s)\n",
    "    return s == s[::-1]\n",
    "\n",
    "def generate_palindrome(minx,maxx):\n",
    "\n",
    "    tmpList = []\n",
    "    for i in range(minx,maxx+1):\n",
    "        if isPalindrome(i):\n",
    "            tmpList.append(i)\n",
    "\n",
    "    return tmpList\n",
    "\n",
    "generate_palindrome(1,1001)"
   ]
  },
  {
   "cell_type": "code",
   "execution_count": 1,
   "id": "e93608a7-f7a8-49c4-ad37-2cd71f9b31bb",
   "metadata": {},
   "outputs": [
    {
     "name": "stdout",
     "output_type": "stream",
     "text": [
      "11\n"
     ]
    }
   ],
   "source": [
    "import math\n",
    "N,M = 3,3\n",
    "Gas_cost = 2*1*1\n",
    "electricity_bill = N * M\n",
    "cost = Gas_cost + electricity_bill\n",
    "print(math.ceil(cost))"
   ]
  },
  {
   "cell_type": "code",
   "execution_count": 2,
   "id": "b53d804d-bbe1-4a8a-8e5f-91fad3ae811a",
   "metadata": {},
   "outputs": [
    {
     "name": "stdout",
     "output_type": "stream",
     "text": [
      "10\n"
     ]
    }
   ],
   "source": [
    "import math\n",
    "N,M = 3,4\n",
    "Gas_cost = 3*2*7\n",
    "electricity_bill = 10 + 10 + 4\n",
    "cost = Gas_cost + electricity_bill \n",
    "profit = cost / 7\n",
    "print(math.ceil(profit))"
   ]
  },
  {
   "cell_type": "code",
   "execution_count": null,
   "id": "dee32b51-3aa4-41e2-97f3-2d023d1dd635",
   "metadata": {},
   "outputs": [],
   "source": []
  }
 ],
 "metadata": {
  "kernelspec": {
   "display_name": "Python 3",
   "language": "python",
   "name": "python3"
  },
  "language_info": {
   "codemirror_mode": {
    "name": "ipython",
    "version": 3
   },
   "file_extension": ".py",
   "mimetype": "text/x-python",
   "name": "python",
   "nbconvert_exporter": "python",
   "pygments_lexer": "ipython3",
   "version": "3.8.8"
  }
 },
 "nbformat": 4,
 "nbformat_minor": 5
}
