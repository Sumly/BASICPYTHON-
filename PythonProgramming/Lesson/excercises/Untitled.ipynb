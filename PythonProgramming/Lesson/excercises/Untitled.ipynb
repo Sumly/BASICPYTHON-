{
 "cells": [
  {
   "cell_type": "code",
   "execution_count": null,
   "id": "76538131-4bfc-4858-8f39-0169e3b9ef1d",
   "metadata": {},
   "outputs": [],
   "source": [
    "bank= int(input(\"Enter number\"))"
   ]
  }
 ],
 "metadata": {
  "kernelspec": {
   "display_name": "Python 3 (ipykernel)",
   "language": "python",
   "name": "python3"
  },
  "language_info": {
   "codemirror_mode": {
    "name": "ipython",
    "version": 3
   },
   "file_extension": ".py",
   "mimetype": "text/x-python",
   "name": "python",
   "nbconvert_exporter": "python",
   "pygments_lexer": "ipython3",
   "version": "3.9.7"
  }
 },
 "nbformat": 4,
 "nbformat_minor": 5
}
