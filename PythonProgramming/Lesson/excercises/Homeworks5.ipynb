{
 "cells": [
  {
   "cell_type": "code",
   "execution_count": 6,
   "id": "fd875fff-8b46-4a0b-b016-d9c2d84e3898",
   "metadata": {},
   "outputs": [
    {
     "name": "stdin",
     "output_type": "stream",
     "text": [
      "Enter bank :  1900\n"
     ]
    },
    {
     "name": "stdout",
     "output_type": "stream",
     "text": [
      "1000 baht = 1 amount\n",
      "500 baht = 1 amount\n",
      "100 baht = 4 amount\n"
     ]
    }
   ],
   "source": [
    "bank = int(input(\"Enter bank : \"))\n",
    "if bank >= 1000:\n",
    "    print(\"1000 baht =\" , bank//1000 , \"amount\")\n",
    "    bank = bank % 1000\n",
    "if bank >= 500:\n",
    "    print(\"500 baht =\" , bank//500 , \"amount\")\n",
    "    bank = bank % 500\n",
    "if bank >= 100:\n",
    "    print(\"100 baht =\" , bank//100 , \"amount\")\n"
   ]
  }
 ],
 "metadata": {
  "kernelspec": {
   "display_name": "Python 3 (ipykernel)",
   "language": "python",
   "name": "python3"
  },
  "language_info": {
   "codemirror_mode": {
    "name": "ipython",
    "version": 3
   },
   "file_extension": ".py",
   "mimetype": "text/x-python",
   "name": "python",
   "nbconvert_exporter": "python",
   "pygments_lexer": "ipython3",
   "version": "3.9.7"
  }
 },
 "nbformat": 4,
 "nbformat_minor": 5
}
