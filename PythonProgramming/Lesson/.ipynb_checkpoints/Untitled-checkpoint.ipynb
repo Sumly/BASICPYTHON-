{
 "cells": [
  {
   "cell_type": "code",
   "execution_count": 1,
   "id": "55e529ea",
   "metadata": {},
   "outputs": [],
   "source": [
    "class Dog() :\n",
    "    def __int__(self, name, age):\n",
    "        self.name = name\n",
    "        slef.age = age\n",
    "    def sit(self):\n",
    "        print(\"{} is now sitting.\".format(self.name.title()))\n",
    "    def roll_over(self):\n",
    "        print(\"{} ois rolled over!\".format(self.name.title()))"
   ]
  },
  {
   "cell_type": "code",
   "execution_count": null,
   "id": "7e405206",
   "metadata": {},
   "outputs": [],
   "source": [
    "print(\"he\")"
   ]
  },
  {
   "cell_type": "code",
   "execution_count": null,
   "id": "70f95147",
   "metadata": {},
   "outputs": [],
   "source": []
  }
 ],
 "metadata": {
  "kernelspec": {
   "display_name": "Python 3 (ipykernel)",
   "language": "python",
   "name": "python3"
  },
  "language_info": {
   "codemirror_mode": {
    "name": "ipython",
    "version": 3
   },
   "file_extension": ".py",
   "mimetype": "text/x-python",
   "name": "python",
   "nbconvert_exporter": "python",
   "pygments_lexer": "ipython3",
   "version": "3.9.7"
  }
 },
 "nbformat": 4,
 "nbformat_minor": 5
}
