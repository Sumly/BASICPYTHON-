{
 "cells": [
  {
   "cell_type": "code",
   "execution_count": 1,
   "id": "75348d68-c0ea-47c8-893d-208ab151949f",
   "metadata": {},
   "outputs": [
    {
     "name": "stdout",
     "output_type": "stream",
     "text": [
      "Enter number :  1900\n"
     ]
    },
    {
     "name": "stdout",
     "output_type": "stream",
     "text": [
      "1000 bath = 1\n",
      "500 bath = 1\n",
      "100 bath = 4\n"
     ]
    }
   ],
   "source": [
    "bank= int(input(\"Enter number : \"))\n",
    "if bank >=1000:\n",
    "    print(\"1000 bath =\",bank//1000)\n",
    "    bank = bank %1000\n",
    "if bank >= 500:\n",
    "    print(\"500 bath =\",bank//500)\n",
    "    bank = bank %500\n",
    "if bank >= 100:\n",
    "    print(\"100 bath =\",bank//100)"
   ]
  },
  {
   "cell_type": "code",
   "execution_count": null,
   "id": "7e218606-328b-4f9c-92d4-d04ab301fd7b",
   "metadata": {},
   "outputs": [],
   "source": []
  }
 ],
 "metadata": {
  "kernelspec": {
   "display_name": "Python 3 (ipykernel)",
   "language": "python",
   "name": "python3"
  },
  "language_info": {
   "codemirror_mode": {
    "name": "ipython",
    "version": 3
   },
   "file_extension": ".py",
   "mimetype": "text/x-python",
   "name": "python",
   "nbconvert_exporter": "python",
   "pygments_lexer": "ipython3",
   "version": "3.9.8"
  }
 },
 "nbformat": 4,
 "nbformat_minor": 5
}
